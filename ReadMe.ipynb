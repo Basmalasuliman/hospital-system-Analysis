{
  "nbformat": 4,
  "nbformat_minor": 0,
  "metadata": {
    "colab": {
      "provenance": []
    },
    "kernelspec": {
      "name": "python3",
      "display_name": "Python 3"
    },
    "language_info": {
      "name": "python"
    }
  },
  "cells": [
    {
      "cell_type": "markdown",
      "source": [
        "## **Hospital Management System🏥**\n",
        "\n",
        "---\n",
        "\n"
      ],
      "metadata": {
        "id": "nom_dq8bBGdU"
      }
    },
    {
      "cell_type": "markdown",
      "source": [
        "## **Project Overview Summary :-**\n",
        "\n",
        "---\n",
        "\n"
      ],
      "metadata": {
        "id": "ndR9CaCaCIUm"
      }
    },
    {
      "cell_type": "markdown",
      "source": [
        "This project is a comprehensive Hospital Management System database designed to efficiently manage hospital operations, including patient records, appointments, medical treatments, surgeries, appointments and billing. The database supports a wide range of hospital functions and provides valuable insights through data analysis.We have dropped tables from schema which are unnecessary in our visualization. We have added numerical columns in each table so we can make measures to use in our dashboard. We have created 4 dashboards analyzing all important points in our prespective."
      ],
      "metadata": {
        "id": "PN5rpS5iCpL3"
      }
    },
    {
      "cell_type": "markdown",
      "source": [
        "## **📖 Table of Contents** :-\n",
        "\n",
        "---\n",
        "\n",
        "\n",
        "\n",
        "1.   Project Objectives\n",
        "\n",
        "\n",
        "1.   Dataset Overview\n",
        "2.  Technologies & Tools\n",
        "\n",
        "\n",
        "1.   Technologies & Tools\n",
        "\n",
        "2.  Methodology\n",
        "\n",
        "\n",
        "1.   Key Performance Indicators (KPIs)\n",
        "2.   Project Timeline & Milestones\n",
        "\n",
        "\n",
        "1.   Deliverables\n",
        "2.   Roles & Responsibilities\n",
        "\n",
        "\n",
        "\n",
        "1.  Setup & Execution Guide\n",
        "\n",
        "\n",
        "1.   Future Enhancements\n",
        "2.   Contact Information\n",
        "\n",
        "\n",
        "1.   Contributions & Support\n",
        "2.   Copyright & Licensing\n",
        "\n",
        "\n",
        "\n",
        "\n",
        "\n",
        "\n",
        "\n",
        "\n",
        "\n",
        "\n",
        "\n",
        "\n",
        "\n",
        "\n",
        "\n",
        "\n"
      ],
      "metadata": {
        "id": "tG4dOrYtCxvv"
      }
    },
    {
      "cell_type": "markdown",
      "source": [
        "## 🏆**Project Objectives** :-\n",
        "\n",
        "\n",
        "---\n",
        "\n",
        "\n",
        "\n",
        "To design and implement a comprehensive Hospital Management System database that efficiently tracks patient care, medical operations and financial transactions, enabling data-driven decision making through Power BI analytics."
      ],
      "metadata": {
        "id": "F_0X9hoCCfF2"
      }
    },
    {
      "cell_type": "markdown",
      "source": [
        "## 📁**Dataset Overview** :-\n",
        "\n",
        "\n",
        "---\n",
        "\n",
        "\n",
        "\n",
        "*   **Source**: [https://www.kaggle.com/datasets/mshamoonbutt/hospital-management-system]\n",
        "\n",
        "\n",
        "*  **Volume** :\n",
        "\n",
        "1. **Department** - Stores hospital department information (31 departments)\n",
        "\n",
        "2. **Room** - Manages room details with pricing (391 rooms)\n",
        "\n",
        "3. Doctor - Contains doctor information including specialties and salaries (400 doctors)\n",
        "\n",
        "4. **Nurse** - Stores nurse details with department-specific salaries (500 nurses)\n",
        "\n",
        "5. **Helpers** - Contains helper staff information with salaries (1100 helpers)\n",
        "\n",
        "6. **Patients** - Maintains patient demographic information (1500 patients)\n",
        "\n",
        "7. **RoomRecords** - Tracks patient room admissions and payments (1000 records)\n",
        "\n",
        "8. **Appointment** - Manages patient appointments (1000 appointments)\n",
        "\n",
        "9. **MedicalRecord** - Stores patient medical history and treatments (3000 records)\n",
        "\n",
        "10. **SurgeryRecord** - Tracks surgical procedures and details (1000 records)\n",
        "\n",
        "\n",
        "\n",
        "\n",
        "*   **Primary Attributes**:\n",
        "\n",
        "1. **Financial Metrics:** Appointment Amounts,Room Admission Amounts , Doctor Salaries, Nurses Salaries, Helpers Salaries ,Treatment Prices ,Room Prices ,Surgeries Prices.\n",
        "2. **Operational Data:** Appointmment, Surgery, Room Admission ,Visit & Next visits\n",
        "\n",
        "\n"
      ],
      "metadata": {
        "id": "gnHgBKv2HaDT"
      }
    },
    {
      "cell_type": "markdown",
      "source": [
        "## 🛠 **Technologies & Tools** :-\n",
        "\n",
        "---\n",
        "\n",
        "\n",
        "\n",
        "\n",
        "*   **DataBase :** MySql\n",
        "*   **Visualization tool:** Power Bi\n",
        "\n",
        "\n",
        "*   **Data Modeling:** Entity-relationship diagramming\n",
        "*   **Analysis:** QL queries, calculated fields, measures\n",
        "\n",
        "\n",
        "\n"
      ],
      "metadata": {
        "id": "EaotfoNuNVt2"
      }
    },
    {
      "cell_type": "markdown",
      "source": [
        "## **🔬 Methodology** :-\n",
        "---\n",
        "\n",
        "\n",
        "1. **Database Design:** Created normalized schema with proper relationships\n",
        "\n",
        "2. **Data Enrichment:** Added calculated fields (ages, durations, pricing)\n",
        "\n",
        "3. **Quality Assurance:** Implemented duplicate checks and data validation\n",
        "\n",
        "4. **Dashboard Development:** Built interactive Power BI reports\n",
        "\n",
        "5. **Analysis:** Derived insights from operational and financial data"
      ],
      "metadata": {
        "id": "haTuwpvoOQJQ"
      }
    },
    {
      "cell_type": "markdown",
      "source": [
        "## 📊**Key Performance Indicators (KPIs)** :-\n",
        "\n",
        "---\n",
        "\n",
        "\n",
        "\n",
        "*   Amounts\n",
        "*   Prices\n",
        "\n",
        "\n",
        "*   Salaries\n",
        "\n",
        "\n",
        "\n",
        "\n",
        "\n",
        "\n",
        "\n",
        "\n",
        "\n",
        "\n",
        "\n"
      ],
      "metadata": {
        "id": "R_1kWuuPO3kh"
      }
    },
    {
      "cell_type": "markdown",
      "source": [
        "## 📅**Project Timeline & Milestones**\n",
        "\n",
        "---\n",
        "\n",
        "\n",
        "1.   **Sql code :** 4 Days\n",
        "2.   **Cleaning & Normalization :** 2 Days\n",
        "3.   **Visualization :** 4 Days\n",
        "\n",
        "\n"
      ],
      "metadata": {
        "id": "dEJn7REVQLQu"
      }
    },
    {
      "cell_type": "markdown",
      "source": [
        "## 🚀**Deliverables** :-\n",
        "\n",
        "---\n",
        "\n",
        "\n",
        "\n",
        "1. Complete MySQL database with all tables and relationships\n",
        "\n",
        "2. Power BI dashboard with interactive visualizations\n",
        "\n",
        "3. Data dictionary and schema documentation\n",
        "\n",
        "4. SQL queries for numerical calculations\n",
        "\n",
        "5. Project documentation and analysis findings\n",
        "\n",
        "\n"
      ],
      "metadata": {
        "id": "EU0O28BwQ8pI"
      }
    },
    {
      "cell_type": "markdown",
      "source": [
        "## 👥**Roles & Responsibilities** :-\n",
        "\n",
        "---\n",
        "\n",
        "\n",
        "### **Full Project:**\n",
        "\n",
        "1.   Basmala Atef Soliman\n",
        "2.   Rawan Ahmed Mohamed\n",
        "\n",
        "\n",
        "1.   Noran Ahmed Elsheikh\n",
        "\n",
        "\n",
        "\n",
        "\n",
        "\n",
        "\n",
        "\n"
      ],
      "metadata": {
        "id": "8VY4X6-jRd32"
      }
    },
    {
      "cell_type": "markdown",
      "source": [
        "## 🚀**Setup & Execution Guide** :-\n",
        "\n",
        "---\n",
        "1. **Clone the Repository** :\n",
        "2. **Configure Data Sources**:\n",
        "3. **Deploy Dashboards & Reports**:\n",
        "4. **Enable Self-Service Analytics**:\n"
      ],
      "metadata": {
        "id": "EUtQ10ypSRYK"
      }
    },
    {
      "cell_type": "markdown",
      "source": [
        "## 🔮 **Future Enhancements**\n",
        "\n",
        "---\n",
        "\n",
        "1. Integration with electronic health record (EHR) systems\n",
        "\n",
        "2. Real-time data processing capabilities\n",
        "\n",
        "3. Predictive analytics for patient outcomes\n",
        "\n",
        "4. Mobile application for staff access\n",
        "\n",
        "5. Automated reporting and alert system\n",
        "\n",
        "6. Advanced security and compliance features (HIPAA)\n",
        "\n",
        "7. Integration with insurance billing systems"
      ],
      "metadata": {
        "id": "Fxjfy3GtUBh4"
      }
    },
    {
      "cell_type": "markdown",
      "source": [
        "## 📩 **Contact Information** :-\n",
        "\n",
        "---\n",
        "\n",
        "**Email :** [basmalasoliman78@gmail.com]\n",
        "        [noran.ahmed.elsheikh@gmail.com]\n",
        "        [rueahmedd15@gmail.com]\n",
        "\n",
        "**LinkedIn :** [https://www.linkedin.com/in/basmala-atef-soliman?utm_source=share&utm_campaign=share_via&utm_content=profile&utm_medium=android_app]\n",
        "[https://www.linkedin.com/in/noran-ahmed-elsheikh?utm_source=share&utm_campaign=share_via&utm_content=profile&utm_medium=ios_app]\n",
        "[https://www.linkedin.com/in/rawan-ahmad-415b66363?utm_source=share&utm_campaign=share_via&utm_content=profile&utm_medium=ios_app]\n",
        "\n"
      ],
      "metadata": {
        "id": "vq3LreVCUvMp"
      }
    },
    {
      "cell_type": "markdown",
      "source": [
        "## ⭐ **Contributions & Support** :-\n",
        "\n",
        "---\n",
        "If you find this project valuable, give it a ⭐ and contribute via pull requests!\n"
      ],
      "metadata": {
        "id": "MHAVjEBVWGt5"
      }
    }
  ]
}